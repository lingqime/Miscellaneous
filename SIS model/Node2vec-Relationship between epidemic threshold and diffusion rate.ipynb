{
 "cells": [
  {
   "cell_type": "code",
   "execution_count": 1,
   "metadata": {},
   "outputs": [],
   "source": [
    "import networkx as nx\n",
    "import matplotlib.pyplot as plt\n",
    "import numpy as np\n",
    "from numpy.linalg import inv\n",
    "from numpy import linalg as LA\n",
    "from matplotlib.pyplot import figure\n",
    "from matplotlib.ticker import (MultipleLocator, FormatStrFormatter, AutoMinorLocator)\n",
    "import seaborn as sns\n",
    "from matplotlib import pyplot"
   ]
  },
  {
   "cell_type": "code",
   "execution_count": 2,
   "metadata": {},
   "outputs": [],
   "source": [
    "a = np.loadtxt('karate.txt')\n",
    "# a = np.loadtxt('USAir97-unweighted.txt')\n",
    "# a = np.loadtxt('ba-n200k6-metapop.txt')\n",
    "# a = np.loadtxt('rrg-n200-metapop.txt')\n",
    "Edges=[]\n",
    "for i in range(0, len(a)):\n",
    "    Edges.append((a[i][0],a[i][1]))\n",
    "\n",
    "G = nx.Graph()\n",
    "G.add_edges_from(Edges)"
   ]
  },
  {
   "cell_type": "code",
   "execution_count": 3,
   "metadata": {},
   "outputs": [],
   "source": [
    "# Input the parameter we use in the paper\n",
    "N=G.number_of_nodes()\n",
    "rho=1\n",
    "mu=1\n",
    "D_I=1"
   ]
  },
  {
   "cell_type": "code",
   "execution_count": 4,
   "metadata": {},
   "outputs": [],
   "source": [
    "# Let Edges be the list of the giant components of G\n",
    "\n",
    "Edges=list(G.edges())\n",
    "\n",
    "Total_Edges=[]\n",
    "for i in range(0,2*len(Edges)):\n",
    "    if i<len(Edges):\n",
    "        Total_Edges.append(Edges[i])\n",
    "    else:\n",
    "        Total_Edges.append((Edges[i-len(Edges)][1],Edges[i-len(Edges)][0]))"
   ]
  },
  {
   "cell_type": "code",
   "execution_count": 5,
   "metadata": {},
   "outputs": [],
   "source": [
    "# Find the adjacent matrix A\n",
    "def A(a,b):\n",
    "    Empty=np.zeros((len(Total_Edges), len(Total_Edges)))\n",
    "    for i in range(0, len(Total_Edges)):\n",
    "        for j in range(0, len(Total_Edges)):\n",
    "            if Total_Edges[i][1]==Total_Edges[j][0]:\n",
    "                if Total_Edges[i][0]==Total_Edges[j][1]:\n",
    "                    Empty[i,j] = a\n",
    "                elif (Total_Edges[i][0], Total_Edges[j][1]) in Total_Edges:\n",
    "                    Empty[i,j] = b\n",
    "                else:\n",
    "                    Empty[i,j] = 1\n",
    "    return Empty\n",
    "\n",
    "# find the diagonal matrix D\n",
    "\n",
    "def D_inverse(a,b):\n",
    "    D=np.sum(A(a,b), axis=1)\n",
    "    D=np.diag(D)\n",
    "    D_inverse=inv(D)\n",
    "    return D_inverse\n",
    "\n",
    "# find transition probability matrix T\n",
    "\n",
    "def T(a,b):\n",
    "    T=np.dot(D_inverse(a,b), A(a,b))\n",
    "    return T"
   ]
  },
  {
   "cell_type": "code",
   "execution_count": 6,
   "metadata": {},
   "outputs": [],
   "source": [
    "# define M\n",
    "M=np.zeros((len(Total_Edges), len(Total_Edges)))\n",
    "for i in range(0,len(Total_Edges)):\n",
    "    for j in range(0, len(Total_Edges)):\n",
    "        if Total_Edges[j][1]==Total_Edges[i][1]:\n",
    "            M[i,j]=1"
   ]
  },
  {
   "cell_type": "code",
   "execution_count": 7,
   "metadata": {},
   "outputs": [],
   "source": [
    "w, v = LA.eig(np.transpose(T(1, 1)))\n",
    "\n",
    "# v[:,i] is the eigenvector corresponding to the eigenvalue w[i]\n",
    "\n",
    "p=v[:,0].real/np.sum(v[:,0].real)"
   ]
  },
  {
   "cell_type": "code",
   "execution_count": 8,
   "metadata": {},
   "outputs": [],
   "source": [
    "# define J_2\n",
    "# b is the parameter of node2vec\n",
    "# beta is the infectious rate\n",
    "\n",
    "def J_2(a,b,beta):\n",
    "    Empty=np.zeros((len(Total_Edges), len(Total_Edges)))\n",
    "    Empty=np.dot(beta*np.diag(p)*rho*N, M) - (mu+D_I)*np.identity(len(Total_Edges)) + D_I*np.transpose(T(a,b))\n",
    "    return Empty"
   ]
  },
  {
   "cell_type": "code",
   "execution_count": 9,
   "metadata": {},
   "outputs": [],
   "source": [
    "def truthfunc(a,b,beta):\n",
    "    return np.all(LA.eigvals(J_2(a,b,beta)).real<=0)"
   ]
  },
  {
   "cell_type": "code",
   "execution_count": 10,
   "metadata": {},
   "outputs": [],
   "source": [
    "# a, b are from node2vec; x, y are for bisection method\n",
    "def bisection(a,b,x,y): \n",
    "  \n",
    "    if (truthfunc(a,b,x) == True and truthfunc(a,b,y) == True) or (truthfunc(a,b,x) == False and truthfunc(a,b,y) == False): \n",
    "        return 777\n",
    "   \n",
    "    z = x\n",
    "    while ((y-x) >= 10**(-4)): \n",
    "  \n",
    "        # Find middle point \n",
    "        z = (x+y)/2\n",
    "        \n",
    "        # Decide the side to repeat the steps \n",
    "        if (truthfunc(a,b,z) == True and truthfunc(a,b,x) == False) or (truthfunc(a,b,z) == False and truthfunc(a,b,x) == True):\n",
    "            y = z \n",
    "        else: \n",
    "            x = z \n",
    "    return z\n"
   ]
  },
  {
   "cell_type": "code",
   "execution_count": 11,
   "metadata": {},
   "outputs": [
    {
     "data": {
      "image/png": "[encoded data removed]",
      "text/plain": [
       "<Figure size 432x288 with 1 Axes>"
      ]
     },
     "metadata": {
      "needs_background": "light"
     },
     "output_type": "display_data"
    }
   ],
   "source": [
    "# two endpoints for bisection method\n",
    "x=0.1\n",
    "y=1.0\n",
    "\n",
    "xx=np.linspace(0, 20, 41)\n",
    "yy=[]\n",
    "for i in xx:\n",
    "    D_I=i\n",
    "    yy.append(bisection(1,1,x,y))\n",
    "\n",
    "plt.plot(xx, yy)\n",
    "pyplot.xlim(xmin=0)\n",
    "pyplot.ylim(ymin=0.2, ymax=0.6)\n",
    "plt.xlabel('Diffusion rate')\n",
    "plt.ylabel('epidemic threshold')\n",
    "plt.show()"
   ]
  },
  {
   "cell_type": "code",
   "execution_count": 12,
   "metadata": {},
   "outputs": [
    {
     "name": "stdout",
     "output_type": "stream",
     "text": [
      "[0.269903564453125, 0.37910766601562496, 0.442169189453125, 0.477545166015625, 0.499298095703125, 0.514019775390625, 0.5245666503906251, 0.532476806640625, 0.5387390136718752, 0.543792724609375, 0.547857666015625, 0.5513732910156249, 0.554229736328125, 0.5567565917968751, 0.5589538574218751, 0.5609313964843751, 0.562579345703125, 0.564117431640625, 0.565435791015625, 0.5666442871093751, 0.5677429199218751, 0.568841552734375, 0.5697204589843751, 0.5705993652343749, 0.571368408203125, 0.572137451171875, 0.5727966308593749, 0.5733459472656249, 0.574005126953125, 0.574554443359375, 0.5749938964843749, 0.5755432128906249, 0.575982666015625, 0.576422119140625, 0.5767517089843751, 0.577191162109375, 0.577520751953125, 0.577850341796875, 0.578179931640625, 0.5785095214843751, 0.578729248046875]\n"
     ]
    }
   ],
   "source": [
    "print(yy)"
   ]
  }
 ],
 "metadata": {
  "kernelspec": {
   "display_name": "Python 3",
   "language": "python",
   "name": "python3"
  },
  "language_info": {
   "codemirror_mode": {
    "name": "ipython",
    "version": 3
   },
   "file_extension": ".py",
   "mimetype": "text/x-python",
   "name": "python",
   "nbconvert_exporter": "python",
   "pygments_lexer": "ipython3",
   "version": "3.6.8"
  }
 },
 "nbformat": 4,
 "nbformat_minor": 2
}
