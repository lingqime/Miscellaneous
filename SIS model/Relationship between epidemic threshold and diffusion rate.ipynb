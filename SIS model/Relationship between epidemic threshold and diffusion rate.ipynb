{
 "cells": [
  {
   "cell_type": "code",
   "execution_count": 1,
   "metadata": {},
   "outputs": [],
   "source": [
    "import numpy as np\n",
    "import networkx as nx\n",
    "import sys\n",
    "import matplotlib.pyplot as plt\n",
    "from numpy.linalg import inv\n",
    "from numpy import linalg as LA\n",
    "from matplotlib.pyplot import figure\n",
    "from matplotlib.ticker import (MultipleLocator, FormatStrFormatter, AutoMinorLocator)\n",
    "import seaborn as sns\n",
    "from matplotlib import pyplot"
   ]
  },
  {
   "cell_type": "code",
   "execution_count": 2,
   "metadata": {},
   "outputs": [],
   "source": [
    "a = np.loadtxt('USAir97-unweighted.txt')\n",
    "# a = np.loadtxt('ba-n200k6-metapop.txt')\n",
    "# a = np.loadtxt('rrg-n200-metapop.txt')\n",
    "Edges=[]\n",
    "for i in range(0, len(a)):\n",
    "    Edges.append((a[i][0],a[i][1]))"
   ]
  },
  {
   "cell_type": "code",
   "execution_count": 3,
   "metadata": {},
   "outputs": [
    {
     "data": {
      "text/plain": [
       "332"
      ]
     },
     "execution_count": 3,
     "metadata": {},
     "output_type": "execute_result"
    }
   ],
   "source": [
    "G = nx.Graph()\n",
    "G.add_edges_from(Edges)\n",
    "# G.nodes()\n",
    "# list(G.nodes())\n",
    "G.number_of_nodes()"
   ]
  },
  {
   "cell_type": "code",
   "execution_count": 4,
   "metadata": {},
   "outputs": [],
   "source": [
    "N=G.number_of_nodes()\n",
    "rho=1\n",
    "mu=1\n",
    "D_I=1"
   ]
  },
  {
   "cell_type": "code",
   "execution_count": 5,
   "metadata": {},
   "outputs": [],
   "source": [
    "A=nx.adjacency_matrix(G)\n",
    "MM=np.zeros((len(G.nodes()), len(G.nodes())))\n",
    "k_mean=0\n",
    "for i in range(0, len(G.nodes())):\n",
    "    k_mean=k_mean+G.degree[list(G.nodes())[i]]\n",
    "k_mean=k_mean/len(G.nodes())\n",
    "A1=np.zeros((len(G.nodes()), len(G.nodes())))\n",
    "for i in range(0, len(G.nodes())):\n",
    "    for j in range(0, len(G.nodes())):\n",
    "        A1[i,j]=A[i,j]/(G.degree[list(G.nodes())[i]]*G.degree[list(G.nodes())[j]])"
   ]
  },
  {
   "cell_type": "code",
   "execution_count": 6,
   "metadata": {},
   "outputs": [],
   "source": [
    "k=np.zeros(len(G.nodes()))\n",
    "for i in range(0, len(G.nodes())):\n",
    "    k[i]=G.degree[list(G.nodes())[i]]"
   ]
  },
  {
   "cell_type": "code",
   "execution_count": 7,
   "metadata": {},
   "outputs": [
    {
     "data": {
      "image/png": "[encoded data removed]",
      "text/plain": [
       "<Figure size 432x288 with 1 Axes>"
      ]
     },
     "metadata": {
      "needs_background": "light"
     },
     "output_type": "display_data"
    },
    {
     "name": "stdout",
     "output_type": "stream",
     "text": [
      "[0.09213833752275288, 0.1355958470318474, 0.1730211208555511, 0.2008037683126014, 0.21853717650065949, 0.22989755255924563, 0.23771663073839647, 0.2434562471046636, 0.2478761984984962, 0.2514029584352456, 0.254294168741412, 0.25671514566442055, 0.2587772249136806, 0.26055838357675043, 0.26211502062596814, 0.2634890369880714, 0.26471227643953965, 0.2658094140025015, 0.26679989389162984, 0.2676992651983925, 0.2685201243449376, 0.2692727939492795, 0.2699658208637774, 0.27060634757375895, 0.27120039325260925, 0.2717530692893604, 0.2722687465674257, 0.27275118672534154, 0.27320364619878124, 0.2736289594488617, 0.2740296061124155, 0.2744077656089475, 0.2747653618698238, 0.27510410023314946, 0.27542549806306604, 0.27573091031792574, 0.27602155101804726, 0.27629851136171624, 0.2765627750980122, 0.2768152316183439, 0.2770566871670349]\n"
     ]
    }
   ],
   "source": [
    "xx=np.linspace(0, 20, 41)\n",
    "yy=[]\n",
    "for i in xx:\n",
    "    D_I=i\n",
    "    MM=((mu+D_I)*np.dot(np.diag(1/k),np.identity(len(G.nodes())))-D_I*A1)*k_mean/rho\n",
    "    w=LA.eigvals(MM)\n",
    "    w=w.real\n",
    "    w.sort()\n",
    "    yy.append(w[0])\n",
    "\n",
    "plt.plot(xx, yy)\n",
    "pyplot.xlim(xmin=0)\n",
    "pyplot.ylim(ymin=0, ymax=0.3)\n",
    "plt.xlabel('Diffusion rate')\n",
    "plt.ylabel('epidemic threshold')\n",
    "plt.show()\n",
    "print(yy)"
   ]
  }
 ],
 "metadata": {
  "kernelspec": {
   "display_name": "Python 3",
   "language": "python",
   "name": "python3"
  },
  "language_info": {
   "codemirror_mode": {
    "name": "ipython",
    "version": 3
   },
   "file_extension": ".py",
   "mimetype": "text/x-python",
   "name": "python",
   "nbconvert_exporter": "python",
   "pygments_lexer": "ipython3",
   "version": "3.6.8"
  }
 },
 "nbformat": 4,
 "nbformat_minor": 2
}
